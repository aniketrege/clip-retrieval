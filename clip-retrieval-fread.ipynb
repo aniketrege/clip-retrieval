{
 "cells": [
  {
   "cell_type": "markdown",
   "id": "3fe16f4f",
   "metadata": {},
   "source": [
    "## Reference\n",
    "Clip Client [example notebook](https://github.com/rom1504/clip-retrieval/blob/main/notebook/clip-client-query-api.ipynb) by Romain Beaumont\n",
    "\n",
    "Clip Retrieval [UI](https://rom1504.github.io/clip-retrieval/)"
   ]
  },
  {
   "cell_type": "code",
   "execution_count": 18,
   "id": "d96ed767",
   "metadata": {},
   "outputs": [
    {
     "name": "stdout",
     "output_type": "stream",
     "text": [
      "Requirement already satisfied: clip-retrieval in /Users/aniketrege/miniconda3/envs/fread/lib/python3.11/site-packages (2.24.2)\n",
      "Requirement already satisfied: img2dataset in /Users/aniketrege/miniconda3/envs/fread/lib/python3.11/site-packages (1.25.4)\n",
      "Requirement already satisfied: clip-anytorch in /Users/aniketrege/miniconda3/envs/fread/lib/python3.11/site-packages (from clip-retrieval) (2.5.2)\n",
      "Requirement already satisfied: tqdm in /Users/aniketrege/miniconda3/envs/fread/lib/python3.11/site-packages (from clip-retrieval) (4.66.1)\n",
      "Requirement already satisfied: fire in /Users/aniketrege/miniconda3/envs/fread/lib/python3.11/site-packages (from clip-retrieval) (0.5.0)\n",
      "Requirement already satisfied: torch in /Users/aniketrege/miniconda3/envs/fread/lib/python3.11/site-packages (from clip-retrieval) (2.1.0)\n",
      "Requirement already satisfied: torchvision in /Users/aniketrege/miniconda3/envs/fread/lib/python3.11/site-packages (from clip-retrieval) (0.16.0)\n",
      "Requirement already satisfied: numpy in /Users/aniketrege/miniconda3/envs/fread/lib/python3.11/site-packages (from clip-retrieval) (1.26.1)\n",
      "Requirement already satisfied: faiss-cpu in /Users/aniketrege/miniconda3/envs/fread/lib/python3.11/site-packages (from clip-retrieval) (1.7.4)\n",
      "Requirement already satisfied: flask in /Users/aniketrege/miniconda3/envs/fread/lib/python3.11/site-packages (from clip-retrieval) (3.0.0)\n",
      "Requirement already satisfied: flask-restful in /Users/aniketrege/miniconda3/envs/fread/lib/python3.11/site-packages (from clip-retrieval) (0.3.10)\n",
      "Requirement already satisfied: flask-cors in /Users/aniketrege/miniconda3/envs/fread/lib/python3.11/site-packages (from clip-retrieval) (4.0.0)\n",
      "Requirement already satisfied: pandas in /Users/aniketrege/miniconda3/envs/fread/lib/python3.11/site-packages (from clip-retrieval) (2.1.2)\n",
      "Requirement already satisfied: pyarrow in /Users/aniketrege/miniconda3/envs/fread/lib/python3.11/site-packages (from clip-retrieval) (14.0.0)\n",
      "Requirement already satisfied: autofaiss in /Users/aniketrege/miniconda3/envs/fread/lib/python3.11/site-packages (from clip-retrieval) (2.9.3)\n",
      "Requirement already satisfied: pyyaml in /Users/aniketrege/miniconda3/envs/fread/lib/python3.11/site-packages (from clip-retrieval) (6.0.1)\n",
      "Requirement already satisfied: webdataset in /Users/aniketrege/miniconda3/envs/fread/lib/python3.11/site-packages (from clip-retrieval) (0.2.73)\n",
      "Requirement already satisfied: h5py in /Users/aniketrege/miniconda3/envs/fread/lib/python3.11/site-packages (from clip-retrieval) (3.10.0)\n",
      "Requirement already satisfied: prometheus-client in /Users/aniketrege/miniconda3/envs/fread/lib/python3.11/site-packages (from clip-retrieval) (0.14.1)\n",
      "Requirement already satisfied: fsspec==2021.11.0 in /Users/aniketrege/miniconda3/envs/fread/lib/python3.11/site-packages (from clip-retrieval) (2021.11.0)\n",
      "Requirement already satisfied: sentence-transformers in /Users/aniketrege/miniconda3/envs/fread/lib/python3.11/site-packages (from clip-retrieval) (2.2.2)\n",
      "Requirement already satisfied: wandb in /Users/aniketrege/miniconda3/envs/fread/lib/python3.11/site-packages (from clip-retrieval) (0.15.12)\n",
      "Requirement already satisfied: opencv-python in /Users/aniketrege/miniconda3/envs/fread/lib/python3.11/site-packages (from img2dataset) (4.8.1.78)\n",
      "Requirement already satisfied: exifread-nocycle in /Users/aniketrege/miniconda3/envs/fread/lib/python3.11/site-packages (from img2dataset) (3.0.1)\n",
      "Requirement already satisfied: albumentations in /Users/aniketrege/miniconda3/envs/fread/lib/python3.11/site-packages (from img2dataset) (1.3.1)\n",
      "Requirement already satisfied: dataclasses in /Users/aniketrege/miniconda3/envs/fread/lib/python3.11/site-packages (from img2dataset) (0.6)\n",
      "Requirement already satisfied: scipy>=1.1.0 in /Users/aniketrege/miniconda3/envs/fread/lib/python3.11/site-packages (from albumentations->img2dataset) (1.11.3)\n",
      "Requirement already satisfied: scikit-image>=0.16.1 in /Users/aniketrege/miniconda3/envs/fread/lib/python3.11/site-packages (from albumentations->img2dataset) (0.22.0)\n",
      "Requirement already satisfied: qudida>=0.0.4 in /Users/aniketrege/miniconda3/envs/fread/lib/python3.11/site-packages (from albumentations->img2dataset) (0.0.4)\n",
      "Requirement already satisfied: opencv-python-headless>=4.1.1 in /Users/aniketrege/miniconda3/envs/fread/lib/python3.11/site-packages (from albumentations->img2dataset) (4.8.1.78)\n",
      "Requirement already satisfied: six in /Users/aniketrege/miniconda3/envs/fread/lib/python3.11/site-packages (from fire->clip-retrieval) (1.16.0)\n",
      "Requirement already satisfied: termcolor in /Users/aniketrege/miniconda3/envs/fread/lib/python3.11/site-packages (from fire->clip-retrieval) (2.3.0)\n",
      "Requirement already satisfied: python-dateutil>=2.8.2 in /Users/aniketrege/miniconda3/envs/fread/lib/python3.11/site-packages (from pandas->clip-retrieval) (2.8.2)\n",
      "Requirement already satisfied: pytz>=2020.1 in /Users/aniketrege/miniconda3/envs/fread/lib/python3.11/site-packages (from pandas->clip-retrieval) (2023.3.post1)\n",
      "Requirement already satisfied: tzdata>=2022.1 in /Users/aniketrege/miniconda3/envs/fread/lib/python3.11/site-packages (from pandas->clip-retrieval) (2023.3)\n",
      "Requirement already satisfied: ftfy in /Users/aniketrege/miniconda3/envs/fread/lib/python3.11/site-packages (from clip-anytorch->clip-retrieval) (6.1.1)\n",
      "Requirement already satisfied: regex in /Users/aniketrege/miniconda3/envs/fread/lib/python3.11/site-packages (from clip-anytorch->clip-retrieval) (2023.10.3)\n",
      "Requirement already satisfied: Werkzeug>=3.0.0 in /Users/aniketrege/miniconda3/envs/fread/lib/python3.11/site-packages (from flask->clip-retrieval) (3.0.1)\n",
      "Requirement already satisfied: Jinja2>=3.1.2 in /Users/aniketrege/miniconda3/envs/fread/lib/python3.11/site-packages (from flask->clip-retrieval) (3.1.2)\n",
      "Requirement already satisfied: itsdangerous>=2.1.2 in /Users/aniketrege/miniconda3/envs/fread/lib/python3.11/site-packages (from flask->clip-retrieval) (2.1.2)\n",
      "Requirement already satisfied: click>=8.1.3 in /Users/aniketrege/miniconda3/envs/fread/lib/python3.11/site-packages (from flask->clip-retrieval) (8.1.7)\n",
      "Requirement already satisfied: blinker>=1.6.2 in /Users/aniketrege/miniconda3/envs/fread/lib/python3.11/site-packages (from flask->clip-retrieval) (1.6.3)\n",
      "Requirement already satisfied: aniso8601>=0.82 in /Users/aniketrege/miniconda3/envs/fread/lib/python3.11/site-packages (from flask-restful->clip-retrieval) (9.0.1)\n",
      "Requirement already satisfied: transformers<5.0.0,>=4.6.0 in /Users/aniketrege/miniconda3/envs/fread/lib/python3.11/site-packages (from sentence-transformers->clip-retrieval) (4.34.1)\n",
      "Requirement already satisfied: scikit-learn in /Users/aniketrege/miniconda3/envs/fread/lib/python3.11/site-packages (from sentence-transformers->clip-retrieval) (1.3.2)\n",
      "Requirement already satisfied: nltk in /Users/aniketrege/miniconda3/envs/fread/lib/python3.11/site-packages (from sentence-transformers->clip-retrieval) (3.8.1)\n",
      "Requirement already satisfied: sentencepiece in /Users/aniketrege/miniconda3/envs/fread/lib/python3.11/site-packages (from sentence-transformers->clip-retrieval) (0.1.99)\n",
      "Requirement already satisfied: huggingface-hub>=0.4.0 in /Users/aniketrege/miniconda3/envs/fread/lib/python3.11/site-packages (from sentence-transformers->clip-retrieval) (0.17.3)\n",
      "Requirement already satisfied: filelock in /Users/aniketrege/miniconda3/envs/fread/lib/python3.11/site-packages (from torch->clip-retrieval) (3.13.1)\n",
      "Requirement already satisfied: typing-extensions in /Users/aniketrege/miniconda3/envs/fread/lib/python3.11/site-packages (from torch->clip-retrieval) (4.7.1)\n",
      "Requirement already satisfied: sympy in /Users/aniketrege/miniconda3/envs/fread/lib/python3.11/site-packages (from torch->clip-retrieval) (1.12)\n",
      "Requirement already satisfied: networkx in /Users/aniketrege/miniconda3/envs/fread/lib/python3.11/site-packages (from torch->clip-retrieval) (3.2.1)\n",
      "Requirement already satisfied: requests in /Users/aniketrege/miniconda3/envs/fread/lib/python3.11/site-packages (from torchvision->clip-retrieval) (2.31.0)\n",
      "Requirement already satisfied: pillow!=8.3.*,>=5.3.0 in /Users/aniketrege/miniconda3/envs/fread/lib/python3.11/site-packages (from torchvision->clip-retrieval) (10.0.1)\n",
      "Requirement already satisfied: GitPython!=3.1.29,>=1.0.0 in /Users/aniketrege/miniconda3/envs/fread/lib/python3.11/site-packages (from wandb->clip-retrieval) (3.1.40)\n"
     ]
    },
    {
     "name": "stdout",
     "output_type": "stream",
     "text": [
      "Requirement already satisfied: psutil>=5.0.0 in /Users/aniketrege/miniconda3/envs/fread/lib/python3.11/site-packages (from wandb->clip-retrieval) (5.9.0)\n",
      "Requirement already satisfied: sentry-sdk>=1.0.0 in /Users/aniketrege/miniconda3/envs/fread/lib/python3.11/site-packages (from wandb->clip-retrieval) (1.33.1)\n",
      "Requirement already satisfied: docker-pycreds>=0.4.0 in /Users/aniketrege/miniconda3/envs/fread/lib/python3.11/site-packages (from wandb->clip-retrieval) (0.4.0)\n",
      "Requirement already satisfied: pathtools in /Users/aniketrege/miniconda3/envs/fread/lib/python3.11/site-packages (from wandb->clip-retrieval) (0.1.2)\n",
      "Requirement already satisfied: setproctitle in /Users/aniketrege/miniconda3/envs/fread/lib/python3.11/site-packages (from wandb->clip-retrieval) (1.3.3)\n",
      "Requirement already satisfied: setuptools in /Users/aniketrege/miniconda3/envs/fread/lib/python3.11/site-packages (from wandb->clip-retrieval) (68.0.0)\n",
      "Requirement already satisfied: appdirs>=1.4.3 in /Users/aniketrege/miniconda3/envs/fread/lib/python3.11/site-packages (from wandb->clip-retrieval) (1.4.4)\n",
      "Requirement already satisfied: protobuf!=4.21.0,<5,>=3.19.0 in /Users/aniketrege/miniconda3/envs/fread/lib/python3.11/site-packages (from wandb->clip-retrieval) (4.24.4)\n",
      "Requirement already satisfied: braceexpand in /Users/aniketrege/miniconda3/envs/fread/lib/python3.11/site-packages (from webdataset->clip-retrieval) (0.1.7)\n",
      "Requirement already satisfied: gitdb<5,>=4.0.1 in /Users/aniketrege/miniconda3/envs/fread/lib/python3.11/site-packages (from GitPython!=3.1.29,>=1.0.0->wandb->clip-retrieval) (4.0.11)\n",
      "Requirement already satisfied: packaging>=20.9 in /Users/aniketrege/miniconda3/envs/fread/lib/python3.11/site-packages (from huggingface-hub>=0.4.0->sentence-transformers->clip-retrieval) (23.1)\n",
      "Requirement already satisfied: MarkupSafe>=2.0 in /Users/aniketrege/miniconda3/envs/fread/lib/python3.11/site-packages (from Jinja2>=3.1.2->flask->clip-retrieval) (2.1.1)\n",
      "Requirement already satisfied: charset-normalizer<4,>=2 in /Users/aniketrege/miniconda3/envs/fread/lib/python3.11/site-packages (from requests->torchvision->clip-retrieval) (2.0.4)\n",
      "Requirement already satisfied: idna<4,>=2.5 in /Users/aniketrege/miniconda3/envs/fread/lib/python3.11/site-packages (from requests->torchvision->clip-retrieval) (3.4)\n",
      "Requirement already satisfied: urllib3<3,>=1.21.1 in /Users/aniketrege/miniconda3/envs/fread/lib/python3.11/site-packages (from requests->torchvision->clip-retrieval) (1.26.18)\n",
      "Requirement already satisfied: certifi>=2017.4.17 in /Users/aniketrege/miniconda3/envs/fread/lib/python3.11/site-packages (from requests->torchvision->clip-retrieval) (2023.7.22)\n",
      "Requirement already satisfied: imageio>=2.27 in /Users/aniketrege/miniconda3/envs/fread/lib/python3.11/site-packages (from scikit-image>=0.16.1->albumentations->img2dataset) (2.31.6)\n",
      "Requirement already satisfied: tifffile>=2022.8.12 in /Users/aniketrege/miniconda3/envs/fread/lib/python3.11/site-packages (from scikit-image>=0.16.1->albumentations->img2dataset) (2023.9.26)\n",
      "Requirement already satisfied: lazy_loader>=0.3 in /Users/aniketrege/miniconda3/envs/fread/lib/python3.11/site-packages (from scikit-image>=0.16.1->albumentations->img2dataset) (0.3)\n",
      "Requirement already satisfied: joblib>=1.1.1 in /Users/aniketrege/miniconda3/envs/fread/lib/python3.11/site-packages (from scikit-learn->sentence-transformers->clip-retrieval) (1.3.2)\n",
      "Requirement already satisfied: threadpoolctl>=2.0.0 in /Users/aniketrege/miniconda3/envs/fread/lib/python3.11/site-packages (from scikit-learn->sentence-transformers->clip-retrieval) (3.2.0)\n",
      "Requirement already satisfied: tokenizers<0.15,>=0.14 in /Users/aniketrege/miniconda3/envs/fread/lib/python3.11/site-packages (from transformers<5.0.0,>=4.6.0->sentence-transformers->clip-retrieval) (0.14.1)\n",
      "Requirement already satisfied: safetensors>=0.3.1 in /Users/aniketrege/miniconda3/envs/fread/lib/python3.11/site-packages (from transformers<5.0.0,>=4.6.0->sentence-transformers->clip-retrieval) (0.4.0)\n",
      "Requirement already satisfied: wcwidth>=0.2.5 in /Users/aniketrege/miniconda3/envs/fread/lib/python3.11/site-packages (from ftfy->clip-anytorch->clip-retrieval) (0.2.5)\n",
      "Requirement already satisfied: mpmath>=0.19 in /Users/aniketrege/miniconda3/envs/fread/lib/python3.11/site-packages (from sympy->torch->clip-retrieval) (1.3.0)\n",
      "Requirement already satisfied: smmap<6,>=3.0.1 in /Users/aniketrege/miniconda3/envs/fread/lib/python3.11/site-packages (from gitdb<5,>=4.0.1->GitPython!=3.1.29,>=1.0.0->wandb->clip-retrieval) (5.0.1)\n",
      "Note: you may need to restart the kernel to use updated packages.\n"
     ]
    }
   ],
   "source": [
    "%pip install clip-retrieval img2dataset"
   ]
  },
  {
   "cell_type": "code",
   "execution_count": 1,
   "id": "fbf2d36f",
   "metadata": {},
   "outputs": [],
   "source": [
    "from IPython.display import Image, display\n",
    "from clip_retrieval.clip_client import ClipClient, Modality"
   ]
  },
  {
   "cell_type": "code",
   "execution_count": 2,
   "id": "e335e8f0",
   "metadata": {},
   "outputs": [],
   "source": [
    "def log_result(result):\n",
    "    id, caption, url, similarity = result[\"id\"], result[\"caption\"], result[\"url\"], result[\"similarity\"]\n",
    "    print(f\"id: {id}\")\n",
    "    print(f\"caption: {caption}\")\n",
    "    print(f\"url: {url}\")\n",
    "    print(f\"similarity: {similarity}\")\n",
    "    display(Image(url=url, unconfined=True))"
   ]
  },
  {
   "cell_type": "code",
   "execution_count": 3,
   "id": "b5ff00a6",
   "metadata": {},
   "outputs": [],
   "source": [
    "def create_client(index_name=\"laion5B-L-14\"):\n",
    "    client = ClipClient(\n",
    "        url=\"https://knn.laion.ai/knn-service\",\n",
    "        indice_name=index_name,\n",
    "        aesthetic_score=9,\n",
    "        aesthetic_weight=0.5,\n",
    "        use_mclip=False, # multilingual data\n",
    "        modality=Modality.IMAGE,\n",
    "        num_images=50,\n",
    "        deduplicate=True,\n",
    "        use_safety_model=True,\n",
    "        use_violence_detector=True\n",
    "    )\n",
    "    return client"
   ]
  },
  {
   "cell_type": "code",
   "execution_count": 4,
   "id": "f8455a2f",
   "metadata": {},
   "outputs": [],
   "source": [
    "available_indices = [\"laion5B-L-14\", \"laion5B-H-14\", \"laion_400m\"]\n",
    "\n",
    "client = create_client(\"laion5B-H-14\")"
   ]
  },
  {
   "cell_type": "code",
   "execution_count": 5,
   "id": "b35d4f76",
   "metadata": {},
   "outputs": [],
   "source": [
    "underspecified_prompts = {\n",
    "                \"USA_politics\": [\"Barack Obama\", \"Joe Biden\", \"Kamala Harris\", \"Alexandria Ocasio-Cortez\", \"John F Kennedy\"], \n",
    "                \"IND_sports\": [\"Baichung Bhutia\", \"Dhyan Chand\", \"Sachin Tendulkar\", \"Sania Mirza\", \"PV Sindhu\"],\n",
    "                \"IND_politics\": [\"Mahatma Gandhi\", \"BR Ambedkar\", \"Indira Gandhi\", \"APJ Abdul Kalam\", \"Narendra Modi\"],\n",
    "                \"IND_actor\": [\"Shah Rukh Khan\", \"Priyanka Chopra\", \"Aamir Khan\", \"Amitabh Bachchan\", \"Aishwarya Rai\"]\n",
    "            }"
   ]
  },
  {
   "cell_type": "code",
   "execution_count": 6,
   "id": "818d4343",
   "metadata": {},
   "outputs": [
    {
     "name": "stdout",
     "output_type": "stream",
     "text": [
      "['Mahatma Gandhi in colour/color - Copyright: GandhiServe India - www.gandhiserveindia.org - Ghandi', 'The Mahatma by I.M. Spadecaller', 'Mahatma Gandhi - Copyright: GandhiServe India - www.gandhiserveindia.org - Ghandi', 'The Mahatma', '\"MAHATMA GANDHI WHOSE MODEL OF \"\"SATYA GIRI\"\" AND PEACE WALKS WE FOLLOW\"', 'Mahatma Gandhi', 'Mahatma Gandhi by Vallabh Kargathra', 'Mahatma Ghandhi', 'Le più belle <strong>frasi di Mahatma Gandhi</strong> – <em>Raccolta completa</em>', 'Mahatma Gandhi in colour/color - Copyright: GandhiServe India - www.gandhiserveindia.org - Ghandi', 'Mahatma Gandhi, il vincitore mancato', 'Mahatma Gandhi in colour/color - Copyright: GandhiServe India - www.gandhiserveindia.org - Ghandi', 'Mahatma Gandhi - 150 Anni', 'Mahatma Gandhi  2 nd  Oct 1869-30 th  Jan 1948 (79 Yrs)', '68_Gandhi_lathi_noakhali', 'Mahatma Gandhi suvichar in Marathi', 'Gandhi', 'Mahatma Gandhi - Copyright: GandhiServe India - www.gandhiserveindia.org - Ghandi', 'Mahatma Gandhi', '\"\"\"Congo YT 206 \"\"\"\" Mahatma Gandhi \"\"\"\" 1967 Neuf** - Neufs\"\"\"', 'Mahatma Gandhi', 'Mahatma Gandhi', 'Gandhi Photos, Mahatma Gandhiji Wallpapers, Gandhi images', 'Gandhi Quotes Mobile Wallpaper', 'Gandhi Image', 'Gandhijini Chintankanikao', 'Mahatma Gandhi in colour/color - Copyright: GandhiServe India - www.gandhiserveindia.org - Ghandi', 'Mahatma Gandhi - Copyright: GandhiServe India - www.gandhiserveindia.org - Ghandi', 'Mahatma Gandhi Image', 'Mahatma-Gandhi', 'Mahatma Gandhi: 10 pravila za mijenjanje svijeta', 'Mahatma Gandhi - Copyright: GandhiServe India - www.gandhiserveindia.org - Ghandi', 'Mohandas Karamchand Gandhi.', 'Mahatma Gandhi', 'Gandhi jayanti images with quotes', 'Fig. 1. Dhiren Gandhi, Untitled, portrait in pencil, c. 1945 <br /> From Dhiren Gandhi, <em>Prayer and Other Sketches of Mahatma Gandhi</em>. Bombay: Times of India Press, 1945', 'Mohandas  Karamchand Gandhi', 'Gandhi - Live and Learn', 'At #ZydusHospitals, we always strive at healing the world with our services, following the #Gandhian Philosophy of losing our self in the service of others.  Our OPD & IPD services shall be available to serve all on 2nd October, 2020.  #GandhiJayanti #MahatmaGandhi #Truth #NonViolence #GoodHealth #Ahmedabad', 'Ганди', 'citate adevar', 'Mohandas Karamchand Gandhi smling at crowd.', 'Mahatma Gandhi Quote Painting', 'Mahatma Gandhi - Issue of Mozambique postage Stamps', 'Mahatma Gandhi - 1 - by BenHeine', \"Tarih-Ghandi's thumbnail\"]\n",
      "\n",
      "['Ambedkar Jayanti 2021 Status Video', 'அம்பேத்கர்', 'Dr. Bhimrao Ambedkar Mahavidyala', 'BR Ambedkar Quotes Image Politics', 'B.R.Ambedkar', 'Dr B R Ambedkar, Indian Freedom Fighter', \"If there were just 10 persons you should know about in your lifetime, one of them is this incredible Dr. Ambedkar. Enrich your life and don\\\\'t miss this: https://bit.ly/2Dub7xu\", 'Babasaheb Ambedkar Jayanti - Thousands of letters have been received at Chaityabhoomi and Dadar Post Office', 'Delhi Confidential: DalitOutreach', '[The 100th Anniversary of the Birth of Doctor Bhimrao Ramji Ambedkar, Social Reformer, Typ AQA]', 'BR Ambedkar 63rd Death Anniversary: Mahaparinirvan Diwas 2019 Date, History and Significance of The Day to Remember The Father of Indian Constitution!', 'Annihilation Of Caste', 'B. R. Ambedkar Skech', 'Mahad Satyagraha Satyagraha of water led by Dr. Babasaheb Ambedkar', 'B R Ambedkar website logo', 'Chudasama Prakash Profile Picture', 'Ambedkar changed the working hours in India from 14 hours to 8 hours.', \"'Ambedkar, a great social reformer'\", 'B. R. Ambedkar', 'डॉ. बी. आर. अम्बेडकर के अनमोल कथन Dr. B. R. Ambedkar Quotes in Hindi', 'Dr.babasaheb ambedkar', 'Dr. Babasaheb Ambedkar: Writings and Speeches Vol. 5', 'Thumbnail image of Book Ambedkar Jeevitham Krithi Darshanam', '\"Dr.B.R.Ambedkar- \"\"The Father of Indian Constitution\"\"\"', \"'Ambedkar's teachings are tools for change'\", 'Ashok Gehlot pays tribute to Baba Saheb Ambedakar', 'Ambedkar', 'Dr. B.R.Ambedkar', 'Contest Article 3: B. R. Ambedkar (1891-1956)', 'B.R._Ambedkar_in_1950', 'Dr. B. R. Ambedkar 1991', 'Dr.B.R.Ambedkar Live Wallpaper', 'Dr BR Ambedkar Mahaparinirvan Din 2019: दूरदृष्टा थे बाबा साहेब आंबेडकर, जानें धारा 370 के अलावा उनके और किन विचारों को अब मिली है गति', 'PEOPLE: Dr. B. R. Ambedkar', 'Ambedkar', 'Dr Ambedkar Images/Photos/ Wallpapers for 125th Dr Ambedkar Jayanti', 'बेंगलुरु के सिटी मार्केट इलाके में रातोंरात लगा दी गई बाबा साहेब भीमराव अंबेडकर मूर्ति! जांच जारी', '\"\"\"Dr Br Ambedkar Picture Frame In Size 12/\"\"\"\" X 9/\"\"\"\"Choices Of Colour For Frame\"\"\"', 'Ambedkar Babasaheb Dr Jaid Uploaded Poster Teahub', 'b day special dr br ambedkar the architect of...', 'Ambedkar Jayanti 2017: Unkown facts about Father of Indian Constitution']\n",
      "\n",
      "[\"The Story Behind Indira Gandhi Choosing 'Hand' Over 'Elephant', 'Bicycle' as Congress' Symbol\", 'an analysis of the struggle of indira gandhi in india Premiership of indira gandhi   minorities and women in india, gandhi was indira  but the leader most associated with the independence struggle, mahatma gandhi.', 'Indira Gandhi (1966) cropped.jpg', 'Indira Gandhi', 'Indira Gandhi (1917-1984)  Source: iloveindia.com  She continues to be named as one of the most powerful women of her times. Indira was born into a illustrious family. Her father Sri Jawahar Lal Nehru became the first Prime Minister of India. Her family had the blessings of Mahatma Gandhi. 1966 when she ascended to power, India was in shambles. The war with China had drained the country. Social problem plagued the scenario. She ruled India for the next 2 decades. She was assasinated in 1984.', 'Smt. Indira Gandhi', \"Indira Gandhi's 101st Birth Anniversary: PM Modi, Rahul Gandhi and Other Leaders Pay Tribute\", 'Indira Gandhi (1917-1984), femme politique indienne.     © Roger-Viollet', 'Indira Gandhi, 100 ans', 'Indira-gandhi-sons, indira-gandhi-family', 'Indira George', 'Short Essay On Indira Gandhi For Children And Students Short  Short Essay On Indira Gandhi For Children And Students Short Paragraph On Indira  Gandhi My Favourite Leader Indira Gandhi Essay Essay In English also I Will Pay Someone To Write My  High School Essays Examples', 'Indira Gandhi', 'Indira Gandhi', 'File photo of former Prime Minister Indira Gandhi. Agencies', 'इंदिरा गांधी की जयंती पर कुछ यादगार लम्हे', 'Indira Gandhi', 'Essay on Indira Gandhi for Students and Children in 1000 Words', '\"\"\"Indira Gandhi, la \"\"\"\"lady di ferro\"\"\"\" indiana\"\"\"', 'Indira Gandhi', \"How Indira Gandhi Pulled Off India's Victory Against Pakistan During 1971 Bangladesh Liberation War\", 'Indira Gandhi Controversies | celebanything.com', 'GANDHI, INDIRA. Photograph dated and Signed, bust', 'Na današnji dan rođena Indira Gandi', 'Indira Gandhi', 'Rare Photos of Indira Priyadarshini Gandhi', 'Indira Ghandi', 'जब इंदिरा गाँधी ने रुस के विदेश मंत्री को लगाई कड़ी फटकार']\n",
      "\n",
      "['Wings of Fire, APJ Abdul Kalam, Book, Review', 'How APJ Abdul Kalam unites India even after death', 'Kalpana Saroj with former president Abdul Kalam', 'அப்துல் கலாமை அமைச்சராக்க விரும்பிய வாஜ்பாய்,Vajpayee wanted to induct Kalam as minister in NDA govt: Book', 'A. P. J. Abdul Kalam Speech', 'महामानव अब्दुल कलाम', 'Homage to Dr Abdul Kalam', 'Abdul kalam history essay', 'Dr Kalam before he collapsed during a lecture at the IIM in Shillong', 'job quotes by abdul kalam famous motivational and inspiring quotes of abdul kalam', 'A. P. J. Abdul Kalam Portraits by Ani,Chennai,Tamilnadu,India', 'Missile Man-Abdul Kalam', 'Wings of fire by A. P. J. Abdul Kalam', 'Lucknow Dec 22 :Former president A . P . J . Abdul Kalam Tuesday asked students in Uttar Pradesh to...', 'Abdul Kalam entered Rashtrapati Bhavan as a surprise consensus candidate, left it as a folk hero', 'Mansukhbhai (right) with former president Dr. APJ Abdul Kalam.', 'Wings_of_Fire_by_A_P_J_Abdul_Kalam_Book_Cover', 'Abdul Kalam to act in Bollywood film', 'Friend vs Book - APJ Abdul Kalam Quotes - [15Oct1931----->> #Quoterian by Vikrmn CA Vikam Verma', 'Essay on abdul kalam in Marathi', 'Dr_Kalam', \"Video : When President Kalam Took Students' Questions (Aired: August 2007)\", 'Former Indian President, A.P.J. Abdul Kalam. Photo Credit: Kannan Shanmugam studio,Main Road, Kollam, Wikimedia Commons.', 'Obama mourns Kalam, calls him an inspiration to millions around the world', 'jeevandhan-ashram-09082015 (12)', 'Twitter mourns former Indian President APJ Abdul Kalam as he passes away aged 83', 'abdul kalam - he is the scientist of india', 'APJ Abdul Kalam', 'Dr APJ Abdul Kalam', 'abdul kalam is an aerospace engineer', 'A.P.J.Abdul Kalam Latest HD photos & Quotes (1080p)', 'People S President Abdul Kalam 5 Unknown Facts About Him', 'Abdul Kalam', \"PM Modi to inaugurate Dr APJ Abdul Kalam's memorial in Rameswaram\", 'Muslim outfits oppose naming Aurangzeb Road after APJ Abdul Kalam', 'A.P.J Abdul Kalam.png', \"APJ: India's Atheist, Bachelor, long haired-lover\", 'Dr Prem Kumar Agarwal net worth']\n",
      "\n"
     ]
    },
    {
     "name": "stdout",
     "output_type": "stream",
     "text": [
      "[\"The Untold Tale Behind Modi's Shock Takeover of a Risky Lender\", 'Narendra Modi by caricature-artist', 'Do You Know Narendra Modi', 'Management Guru Narendra Modi', 'Narendra Modi Next Prime Minister of India', 'Narendra_Modi', 'The Best Namo Hd/Hq Wallpapers 2013', 'What are some strange facts about Narendra Modi?', 'Is this the 2014 effect? Modi sits through presentation on 2002 riots, says I', 'Gujarat Chief Minister Narendra Modi', 'Congress Fire Modi Over Burqa Statement', 'Narendra Modi Biography apk screenshot', \"Union Budget 2013 lacks strategy and vision for India's development: Modi\", 'The saffron makeover: Rajnath Singh set to bring BJP stalwarts to centrestage', 'Narendra Modi Facebook Cover 10', \"India's Prime Minister Narendra Modi as called a meeting with all the state chief ministers Sunday to discuss the overhaul of the country's Planning Commission - Sputnik International\", 'Narendra Modi clicked at his office in Gandhinagar', 'Gujarat chief minister Narendra Modi.', 'The Best Namo Hd/Hq Wallpapers 2013', 'Download narendra modi facebook cover 10, narendra modi facebook cover 10  Wallpaper download for Desktop, PC, Laptop. narendra modi facebook cover 10 HD Wallpapers, High Definition Quality Wallpapers of narendra modi facebook cover 10.', \"Modi Effect: Inside Narendra Modi's Campaign To Transform India\", 'Narendra Modi achieved great oratory skills at dale Carnegie', 'After defeat in Karnataka, INC will become Punjab, Puducherry, Parivar Congress', 'narendra modi', 'The Best Namo Hd/Hq Wallpapers 2013', 'Modi Condemns Attack On Congress Rally By Naxalites', 'PM Modi (File Pic)', \"Narendra Modi, prime ministerial candidate for India's main opposition Bharatiya Janata Party.\", 'twenty-billion-dollar-India, South Korea bilateral trade in 2017-says-modi', 'The Best Namo Hd/Hq Wallpapers 2013', 'Narendra_Modi_at_the_6th_BRICS_summit_2014', 'Narendra Modi: Yes He Can: ...Only He Can Save India from Impending Doom.', 'Narendra Modi by Cover', 'Narendra Modi Facebook Cover 10', 'नरेंद्र मोदी का नमोः मंत्र', 'Modi to review MFN status to Pakistan; revocation will affect India', 'Narendra Modi Facebook Cover 10', 'Narendra Modi', 'Chai Garam -Lets meet & discuss Narendra Modi Mantra,Ideas & Patriotism over cup of Tea', 'ناريندرا مودي رئيس وزراء الهند.']\n",
      "\n"
     ]
    }
   ],
   "source": [
    "category = \"IND_politics\"\n",
    "\n",
    "for prompt in underspecified_prompts[category]:\n",
    "    client_results = client.query(text=prompt)\n",
    "    print([item[\"caption\"] for item in client_results])\n",
    "    print()"
   ]
  },
  {
   "cell_type": "code",
   "execution_count": 17,
   "id": "4577a70c",
   "metadata": {},
   "outputs": [
    {
     "name": "stdout",
     "output_type": "stream",
     "text": [
      "BRA_2014.csv  BRA_2016.csv  BRA_2018.csv  BRA_2020.csv  BRA_2022.csv\r\n",
      "BRA_2015.csv  BRA_2017.csv  BRA_2019.csv  BRA_2021.csv  BRA_2023.csv\r\n"
     ]
    }
   ],
   "source": [
    "ls ../googletrends-queries-images/076_BRA"
   ]
  },
  {
   "cell_type": "code",
   "execution_count": 12,
   "id": "4d1b8940",
   "metadata": {},
   "outputs": [],
   "source": [
    "import pandas as pd\n",
    "\n",
    "root = '../googletrends-queries-images/'\n",
    "countries = ['076_BRA', '356_IND', '840_USA', '566_NGA']"
   ]
  },
  {
   "cell_type": "code",
   "execution_count": 109,
   "id": "0fd98d4a",
   "metadata": {},
   "outputs": [],
   "source": [
    "def generate_query_df(country_index=0):\n",
    "    c = countries[i].split('_')[-1]\n",
    "    df_list=[] \n",
    "\n",
    "    for year in range(2014, 2022):\n",
    "        filename = f'{root}{countries[i]}/{c}_{year}.csv'\n",
    "        df = pd.read_csv(f'{root}{countries[i]}/{c}_{year}.csv', skiprows=1).reset_index()\n",
    "        df.columns = [\"query\", \"year\"]\n",
    "        index_to_drop = df.index[df['query']=='RISING'][0]+1\n",
    "        df = df.iloc[index_to_drop:]\n",
    "        year_col = [year for i in range(len(df))]\n",
    "        df['year'] = year_col\n",
    "        df_list.append(df)\n",
    "\n",
    "    df_new = pd.concat(df_list)\n",
    "    # remove duplicate and single word queries\n",
    "    df_new = df_new.drop_duplicates(subset=['query'])\n",
    "    df_new = df_new[df_new['query'].str.count(' ') > 0]\n",
    "\n",
    "    df_new = df_new.reset_index().drop(columns=['index'])\n",
    "    \n",
    "    return df_new"
   ]
  },
  {
   "cell_type": "code",
   "execution_count": 115,
   "id": "4efb3f5c",
   "metadata": {},
   "outputs": [
    {
     "name": "stdout",
     "output_type": "stream",
     "text": [
      "                                        query  year\n",
      "0                                chibok girls  2014\n",
      "1                               ander herrera  2014\n",
      "2                                    nokia xl  2014\n",
      "3                        rabilu musa dan ibro  2014\n",
      "4                          labarin boko haram  2014\n",
      "..                                        ...   ...\n",
      "161  bbc hausa labaran duniya da dumi-duminsu  2021\n",
      "162                             aminiya hausa  2021\n",
      "163                            zainab sambisa  2021\n",
      "164                             jamila makira  2021\n",
      "165                                    hot 10  2021\n",
      "\n",
      "[166 rows x 2 columns]\n"
     ]
    }
   ],
   "source": [
    "i = 3\n",
    "df_new = generate_query_df(i)\n",
    "print(df_new)\n",
    "df_new.to_csv(f'{root}{countries[i]}/topqueries_2014-21.csv', encoding='utf-8', index=False)"
   ]
  }
 ],
 "metadata": {
  "kernelspec": {
   "display_name": "Python 3 (ipykernel)",
   "language": "python",
   "name": "python3"
  },
  "language_info": {
   "codemirror_mode": {
    "name": "ipython",
    "version": 3
   },
   "file_extension": ".py",
   "mimetype": "text/x-python",
   "name": "python",
   "nbconvert_exporter": "python",
   "pygments_lexer": "ipython3",
   "version": "3.11.5"
  }
 },
 "nbformat": 4,
 "nbformat_minor": 5
}
